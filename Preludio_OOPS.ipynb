{
  "nbformat": 4,
  "nbformat_minor": 0,
  "metadata": {
    "colab": {
      "name": "Preludio_OOPS.ipynb",
      "provenance": [],
      "collapsed_sections": [],
      "authorship_tag": "ABX9TyOss6elMTwDuQ8e5Fh+cxf3",
      "include_colab_link": true
    },
    "kernelspec": {
      "display_name": "Python 3",
      "name": "python3"
    },
    "language_info": {
      "name": "python"
    }
  },
  "cells": [
    {
      "cell_type": "markdown",
      "metadata": {
        "id": "view-in-github",
        "colab_type": "text"
      },
      "source": [
        "<a href=\"https://colab.research.google.com/github/joseivangeraldo/Jogo-Forca/blob/main/Preludio_OOPS.ipynb\" target=\"_parent\"><img src=\"https://colab.research.google.com/assets/colab-badge.svg\" alt=\"Open In Colab\"/></a>"
      ]
    },
    {
      "cell_type": "code",
      "metadata": {
        "colab": {
          "base_uri": "https://localhost:8080/"
        },
        "id": "Vp6E9iaJbPL8",
        "outputId": "be1da295-d037-4178-f57d-d5b4ae3ba4af"
      },
      "source": [
        "class Game:\n",
        "  def __init__(self,word):\n",
        "    self.word = word\n",
        "    self.escolha_certa= []\n",
        "    self.escolha_errada = []\n",
        "    self.hi=[]\n",
        "    ###O FOR PARA GERAR LISTA DEUNDERLINES\n",
        "    for i in self.word:\n",
        "      self.hi.append('_ ')\n",
        "  \n",
        "  def hide_word(self , letra):\n",
        "         for i in range(len(self.word)):\n",
        "            if self.word[i]  == letra:\n",
        "                self.hi[i] = letra\n",
        "         for k in self.hi:\n",
        "               print(k , end=' ')\n",
        "               \n",
        "  def palpite(self,letra):\n",
        "    if letra in self.word and letra not in self.escolha_certa:\n",
        "      self.escolha_certa.append(letra)\n",
        "\n",
        "    elif letra not in self.word and letra not in self.escolha_errada:\n",
        "      self.escolha_errada.append(letra)\n",
        "      \n",
        "    else:\n",
        "      print('Ja digitou')\n",
        "      \n",
        "    print('Acertos : ' , end = ' ')\n",
        "    print(self.escolha_certa)\n",
        "    self.hide_word(letra)\n",
        "    print()\n",
        "    print('Erros : ' , end = ' ')\n",
        "    print(self.escolha_errada)\n",
        "      \n",
        "  \n",
        "  def forca_vitoria(self):\n",
        "     if '_ ' not in self.hi:\n",
        "        return True\n",
        "     else:\n",
        "        return False\n",
        "\n",
        "  \n",
        "  def forca_derrota(self):\n",
        "    if len(self.escolha_errada) ==6:\n",
        "        return True\n",
        "    else:\n",
        "        return False\n",
        "\n",
        "w = 'bala'\n",
        "forca = Game('bala')\n",
        "esc =''\n",
        "while esc !='0':\n",
        "  esc = input('digite : ')\n",
        "  forca.palpite(esc)\n",
        "  if forca.forca_derrota():\n",
        "    print('Game Over')\n",
        "    esc='0'\n",
        "  elif forca.forca_vitoria():\n",
        "    print('Ganhou!!!')\n",
        "    esc='0'\n",
        "\n",
        "print('Terminou.')"
      ],
      "execution_count": 37,
      "outputs": [
        {
          "output_type": "stream",
          "name": "stdout",
          "text": [
            "digite : a\n",
            "Acertos :  ['a']\n",
            "_  a _  a \n",
            "Erros :  []\n",
            "digite : b\n",
            "Acertos :  ['a', 'b']\n",
            "b a _  a \n",
            "Erros :  []\n",
            "digite : l\n",
            "Acertos :  ['a', 'b', 'l']\n",
            "b a l a \n",
            "Erros :  []\n",
            "Ganhou!!!\n",
            "Terminou.\n"
          ]
        }
      ]
    }
  ]
}